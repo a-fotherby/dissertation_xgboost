{
 "cells": [
  {
   "cell_type": "code",
   "execution_count": 1,
   "metadata": {},
   "outputs": [],
   "source": [
    "from context import omphalos\n",
    "\n",
    "import numpy as np\n",
    "import matplotlib as pyplot\n",
    "# Import Omphalos modules.\n",
    "from omphalos import generate_inputs as gi\n",
    "from omphalos import file_methods as fm\n",
    "from omphalos import my_metrics as mm\n",
    "from omphalos import omphalos_plotter as op\n",
    "from omphalos import attributes as attr\n",
    "from omphalos import labels as lbls\n",
    "from omphalos import spatial_constructor\n",
    "\n",
    "import sys\n",
    "import subprocess\n",
    "import pickle\n",
    "\n",
    "import warnings\n",
    "import numpy as np\n",
    "import gpflow\n",
    "import tensorflow as tf\n",
    "\n",
    "from matplotlib import pyplot as plt\n",
    "\n",
    "from gpflow.ci_utils import ci_niter, ci_range\n",
    "from gpflow.models import VGP, GPR, SGPR, SVGP\n",
    "from gpflow.optimizers import NaturalGradient\n",
    "from gpflow.optimizers.natgrad import XiSqrtMeanVar\n",
    "from gpflow import set_trainable\n",
    "\n",
    "%matplotlib inline\n",
    "%precision 4\n",
    "\n",
    "np.random.seed(0)\n",
    "tf.random.set_seed(0)\n",
    "\n",
    "N, D = 100, 2\n",
    "batch_size = 50\n",
    "\n",
    "# inducing points\n",
    "M = 10\n",
    "\n",
    "inducing_variable = tf.random.uniform((M, D))\n",
    "adam_learning_rate = 0.01\n",
    "iterations = ci_niter(5)\n",
    "autotune = tf.data.experimental.AUTOTUNE"
   ]
  },
  {
   "cell_type": "code",
   "execution_count": 2,
   "metadata": {},
   "outputs": [
    {
     "name": "stderr",
     "output_type": "stream",
     "text": [
      "/usr/local/lib/python3.8/site-packages/pandas/core/frame.py:6390: SettingWithCopyWarning: \n",
      "A value is trying to be set on a copy of a slice from a DataFrame.\n",
      "Try using .loc[row_indexer,col_indexer] = value instead\n",
      "\n",
      "See the caveats in the documentation: https://pandas.pydata.org/pandas-docs/stable/user_guide/indexing.html#returning-a-view-versus-a-copy\n",
      "  self[col] = expressions.where(mask, this, that)\n"
     ]
    }
   ],
   "source": [
    "train_set = fm.unpickle('data/1086_data.pickle')\n",
    "\n",
    "attributes_df = attr.initial_conditions(train_set, primary_species=True)\n",
    "labels_df = lbls.secondary_precip(train_set)"
   ]
  },
  {
   "cell_type": "code",
   "execution_count": 3,
   "metadata": {},
   "outputs": [],
   "source": [
    "x = attributes_df.loc[:, ['SO4--','Ca++', 'Formaldehyde', 'CO2(aq)']].xs(1, level=1)\n",
    "y = labels_df.xs(9, level=1)['Calcite'] + labels_df.xs(9, level=1)['Calcite44']\n",
    "\n",
    "\n",
    "x = x.to_numpy() \n",
    "y = y.to_numpy().reshape(-1,1)\n",
    "y = y * 1e4\n",
    "x = np.log(x)"
   ]
  },
  {
   "cell_type": "markdown",
   "metadata": {},
   "source": [
    "# Fit and optimise"
   ]
  },
  {
   "cell_type": "code",
   "execution_count": 4,
   "metadata": {},
   "outputs": [
    {
     "name": "stdout",
     "output_type": "stream",
     "text": [
      "╒═════════════════════════╤═══════════╤══════════════════╤═════════╤═════════════╤═════════════════╤═════════╤══════════════════════════════════════════╕\n",
      "│ name                    │ class     │ transform        │ prior   │ trainable   │ shape           │ dtype   │ value                                    │\n",
      "╞═════════════════════════╪═══════════╪══════════════════╪═════════╪═════════════╪═════════════════╪═════════╪══════════════════════════════════════════╡\n",
      "│ VGP.kernel.variance     │ Parameter │ Softplus         │         │ True        │ ()              │ float64 │ 1.0                                      │\n",
      "├─────────────────────────┼───────────┼──────────────────┼─────────┼─────────────┼─────────────────┼─────────┼──────────────────────────────────────────┤\n",
      "│ VGP.kernel.lengthscales │ Parameter │ Softplus         │         │ True        │ (4,)            │ float64 │ [1., 1., 1....                           │\n",
      "├─────────────────────────┼───────────┼──────────────────┼─────────┼─────────────┼─────────────────┼─────────┼──────────────────────────────────────────┤\n",
      "│ VGP.likelihood.variance │ Parameter │ Softplus + Shift │         │ True        │ ()              │ float64 │ 1.0                                      │\n",
      "├─────────────────────────┼───────────┼──────────────────┼─────────┼─────────────┼─────────────────┼─────────┼──────────────────────────────────────────┤\n",
      "│ VGP.q_mu                │ Parameter │ Identity         │         │ True        │ (9999, 1)       │ float64 │ [[-1.1129e-01...                         │\n",
      "├─────────────────────────┼───────────┼──────────────────┼─────────┼─────────────┼─────────────────┼─────────┼──────────────────────────────────────────┤\n",
      "│ VGP.q_sqrt              │ Parameter │ FillTriangular   │         │ True        │ (1, 9999, 9999) │ float64 │ [[[1.9846e-01, 0.0000e+00, 0.0000e+00... │\n",
      "╘═════════════════════════╧═══════════╧══════════════════╧═════════╧═════════════╧═════════════════╧═════════╧══════════════════════════════════════════╛\n",
      "CPU times: user 43min 51s, sys: 2min 50s, total: 46min 42s\n",
      "Wall time: 10min 52s\n"
     ]
    }
   ],
   "source": [
    "%%time\n",
    "\n",
    "# Genereate varational Gaussian process\n",
    "vgp = VGP((x,y), kernel=gpflow.kernels.RBF(lengthscales=[1,1,1,1], variance=1, active_dims=[0, 1, 2, 3]), likelihood=gpflow.likelihoods.Gaussian())\n",
    "vgp.elbo().numpy()\n",
    "\n",
    "# Natural gradients optimisation\n",
    "natgrad_opt = NaturalGradient(gamma=1.0)\n",
    "variational_params = [(vgp.q_mu, vgp.q_sqrt)]\n",
    "natgrad_opt.minimize(vgp.training_loss, var_list=variational_params)\n",
    "vgp.elbo().numpy()\n",
    "\n",
    "from gpflow.utilities import print_summary\n",
    "print_summary(vgp)"
   ]
  },
  {
   "cell_type": "markdown",
   "metadata": {},
   "source": [
    "## Draw a sample from posterior"
   ]
  },
  {
   "cell_type": "code",
   "execution_count": 12,
   "metadata": {},
   "outputs": [
    {
     "name": "stdout",
     "output_type": "stream",
     "text": [
      "CPU times: user 26.2 s, sys: 15.5 s, total: 41.7 s\n",
      "Wall time: 28.4 s\n"
     ]
    }
   ],
   "source": [
    "%%time\n",
    "\n",
    "plot_var = 1\n",
    "\n",
    "# We define a function that plots the model's prediction (in the form of samples) together with the data.\n",
    "# Importantly, this function has no other argument than `fig: matplotlib.figure.Figure` and `ax: matplotlib.figure.Axes`.\n",
    "\n",
    "# plot the function posterior\n",
    "samp = 50\n",
    "xx = np.ones((samp, 4))\n",
    "xx[:,0] = 26.79609e-03\n",
    "xx[:,1] = 1.01838314236E-02\n",
    "xx[:,2] = 0.55e-01\n",
    "xx[:,3] = 2.00e-03\n",
    "xx[:,plot_var] = np.linspace(1e-15, 0.2, samp)\n",
    "\n",
    "xx = np.log(xx)\n",
    "\n",
    "mean, var = vgp.predict_f(xx)"
   ]
  },
  {
   "cell_type": "code",
   "execution_count": 24,
   "metadata": {},
   "outputs": [
    {
     "data": {
      "text/plain": [
       "{'FeS(am)': ['0.00001', '0.2'],\n",
       " 'FeS34(am)': ['4.5090014600E-07', '0.2'],\n",
       " 'SiO2(am)': ['0.00', '0.2'],\n",
       " 'Quartz': ['1E-10', '1.0'],\n",
       " 'Siderite': ['1E-10', '1.0'],\n",
       " 'Calcite': ['0.31335679', '1.0'],\n",
       " 'Calcite44': ['0.00664321', '1.0'],\n",
       " 'K-Feldspar': ['0.02', 'ssa', '55.0'],\n",
       " 'Kaolinite': ['0.02', 'ssa', '55.0'],\n",
       " 'C5H7O2NSO4(s)': ['5.189E-6']}"
      ]
     },
     "execution_count": 24,
     "metadata": {},
     "output_type": "execute_result"
    }
   ],
   "source": [
    "sweep[2].condition_blocks['Seawater'].minerals"
   ]
  },
  {
   "cell_type": "code",
   "execution_count": 18,
   "metadata": {},
   "outputs": [
    {
     "name": "stderr",
     "output_type": "stream",
     "text": [
      "/usr/local/lib/python3.8/site-packages/pandas/core/frame.py:6390: SettingWithCopyWarning: \n",
      "A value is trying to be set on a copy of a slice from a DataFrame.\n",
      "Try using .loc[row_indexer,col_indexer] = value instead\n",
      "\n",
      "See the caveats in the documentation: https://pandas.pydata.org/pandas-docs/stable/user_guide/indexing.html#returning-a-view-versus-a-copy\n",
      "  self[col] = expressions.where(mask, this, that)\n"
     ]
    }
   ],
   "source": [
    "sweep = fm.unpickle('data/1086_ca_sweep.pickle')\n",
    "\n",
    "sweep_attr = attr.initial_conditions(sweep, primary_species=True, mineral_vols=True)\n",
    "sweep_lbls = lbls.secondary_precip(sweep)\n",
    "\n",
    "sweep_x = sweep_attr.loc[:, 'Ca++'].xs(1, level=1)\n",
    "sweep_y = sweep_lbls.xs(9, level=1)['Calcite'] + sweep_lbls.xs(9, level=1)['Calcite44']\n",
    "#so4_y = so4_labels.sum(level=0)['Calcite'] +  so4_labels.sum(level=0)['Calcite44']"
   ]
  },
  {
   "cell_type": "markdown",
   "metadata": {},
   "source": [
    "## Plot sample"
   ]
  },
  {
   "cell_type": "code",
   "execution_count": 19,
   "metadata": {},
   "outputs": [
    {
     "data": {
      "application/vnd.jupyter.widget-view+json": {
       "model_id": "e6884cbe91f649ccae04e3f6fcfa654d",
       "version_major": 2,
       "version_minor": 0
      },
      "text/plain": [
       "Canvas(toolbar=Toolbar(toolitems=[('Home', 'Reset original view', 'home', 'home'), ('Back', 'Back to previous …"
      ]
     },
     "metadata": {},
     "output_type": "display_data"
    }
   ],
   "source": [
    "plt.style.use('seaborn-talk')\n",
    "\n",
    "\n",
    "def plot_prediction(fig, ax):\n",
    "    #Ypred = vgp.predict_f_samples(Xnew, full_cov=True, num_samples=20)\n",
    "    #ax.plot(np.exp(Xnew[:,1]), np.squeeze(Ypred).T, \"C1\", alpha=0.2)\n",
    "    ax.plot(np.exp(xx[:,plot_var]) * 1000, mean * 1e-4, label='GPR Fit')\n",
    "    ax.fill_between(np.exp(xx[:, plot_var]) * 1000, (mean[:,0] - 2 * np.sqrt(var[:,0])) * 1e-4, (mean[:,0] + 2 * np.sqrt(var[:,0]))*1e-4, color=\"C0\", alpha=0.2, label='95% Confidence Interval')\n",
    "    ax.scatter(sweep_x * 1000, sweep_y, c='k', marker='+',label='RTM Result')\n",
    "    #ax.set_xlim(0, 0.1)\n",
    "\n",
    "\n",
    "x_labels =  ['[SO$_4^{2-}$] (mM)','[Ca$^{2+}$] (mM)', '[Formaldehyde] (mM)', '[CO$_{2(aq)}$] (mM)']\n",
    "    \n",
    "# Let's check if the function does the desired plotting\n",
    "fig = plt.figure(figsize=(16,9))\n",
    "ax = fig.subplots()\n",
    "plot_prediction(fig, ax)\n",
    "ax.set_xlabel(x_labels[plot_var], fontsize=20)\n",
    "ax.set_ylabel('Net calcite precipitation (vol. frac.)', fontsize=20)\n",
    "ax.legend(fontsize=20)\n",
    "ax.tick_params('both', labelsize=18)\n",
    "ax.set_xlim(0, 50)\n",
    "ax.set_ylim(-0.00025, 0.00150)\n",
    "\n",
    "path='/Users/angus/PhD_pres/fit_plots/{}.jpg'.format(plot_var)\n",
    "fig.savefig(path, dpi=300)"
   ]
  },
  {
   "cell_type": "markdown",
   "metadata": {},
   "source": [
    "## 2D sampling"
   ]
  },
  {
   "cell_type": "code",
   "execution_count": 132,
   "metadata": {},
   "outputs": [
    {
     "name": "stdout",
     "output_type": "stream",
     "text": [
      "CPU times: user 34 s, sys: 15.7 s, total: 49.8 s\n",
      "Wall time: 34.2 s\n"
     ]
    }
   ],
   "source": [
    "%%time\n",
    "\n",
    "\n",
    "num = 20\n",
    "upper = 0.05\n",
    "lower = 1e-5\n",
    "x1 = np.linspace(lower, upper, num)\n",
    "x2 = np.linspace(lower, upper, num)\n",
    "x1_mesh,x2_mesh = np.meshgrid(x1, x2)\n",
    "X = np.dstack([x1_mesh, x2_mesh]).reshape(-1, 2)\n",
    "\n",
    "control_vals = np.zeros((num**2, 2))\n",
    "control_vals[:, 0] = 0.55e-1 # Formaldehyde\n",
    "control_vals[:, 1] = 2.00e-3 # CO2(aq)\n",
    "\n",
    "X = np.hstack((X, control_vals))\n",
    "\n",
    "vals, vars = vgp.predict_f(np.log(X))"
   ]
  },
  {
   "cell_type": "code",
   "execution_count": 25,
   "metadata": {},
   "outputs": [
    {
     "name": "stdout",
     "output_type": "stream",
     "text": [
      "3903\n",
      "[0.0286 0.05   0.05   0.05  ]\n",
      "CPU times: user 2min 4s, sys: 24.6 s, total: 2min 28s\n",
      "Wall time: 1min 8s\n"
     ]
    },
    {
     "data": {
      "text/plain": [
       "<tf.Tensor: shape=(1,), dtype=float64, numpy=array([0.0014])>"
      ]
     },
     "execution_count": 25,
     "metadata": {},
     "output_type": "execute_result"
    }
   ],
   "source": [
    "%%time\n",
    "\n",
    "#Finding best parameter set!\n",
    "num = 8\n",
    "upper = 0.05\n",
    "lower = 1e-5\n",
    "x1 = np.linspace(lower, upper, num)\n",
    "x2 = np.linspace(lower, upper, num)\n",
    "x3 = np.linspace(lower, upper, num)\n",
    "x4 = np.linspace(lower, upper, num)\n",
    "\n",
    "X = np.stack(np.meshgrid(x1, x2, x3, x4), -1).reshape(-1, 4)\n",
    "\n",
    "vals, var = vgp.predict_f(np.log(X))\n",
    "\n",
    "max_index = np.argmax(vals)\n",
    "\n",
    "print(max_index)\n",
    "print(X[max_index])\n",
    "\n",
    "vals[max_index] * 1e-4"
   ]
  },
  {
   "cell_type": "code",
   "execution_count": 5,
   "metadata": {},
   "outputs": [
    {
     "name": "stdout",
     "output_type": "stream",
     "text": [
      "CPU times: user 34.3 s, sys: 15.4 s, total: 49.7 s\n",
      "Wall time: 33.6 s\n"
     ]
    }
   ],
   "source": [
    "%%time\n",
    "\n",
    "\n",
    "num = 20\n",
    "upper = 0.05\n",
    "lower = 1e-5\n",
    "x1 = np.linspace(lower, upper, num)\n",
    "x2 = np.linspace(lower, upper, num)\n",
    "x1_mesh,x2_mesh = np.meshgrid(x1, x2)\n",
    "X2 = np.dstack([x1_mesh, x2_mesh]).reshape(-1, 2)\n",
    "control_vals = np.zeros((num**2, 2))\n",
    "\n",
    "control_vals[:, 0] = 1.01838314236E-02 # Ca++\n",
    "control_vals[:, 1] = 2.00e-3 # CO2(aq)\n",
    "\n",
    "\n",
    "XX = np.hstack((X2[:,0].reshape(-1,1), control_vals[:,0].reshape(-1,1), X2[:,1].reshape(-1,1), control_vals[:,1].reshape(-1,1)))\n",
    "vals, var = vgp.predict_f(np.log(XX))"
   ]
  },
  {
   "cell_type": "code",
   "execution_count": 7,
   "metadata": {},
   "outputs": [
    {
     "data": {
      "application/vnd.jupyter.widget-view+json": {
       "model_id": "458e4293fd2c4c2f94c01a33c8b0fbed",
       "version_major": 2,
       "version_minor": 0
      },
      "text/plain": [
       "Canvas(toolbar=Toolbar(toolitems=[('Home', 'Reset original view', 'home', 'home'), ('Back', 'Back to previous …"
      ]
     },
     "metadata": {},
     "output_type": "display_data"
    },
    {
     "data": {
      "text/plain": [
       "<mpl_toolkits.mplot3d.art3d.Poly3DCollection at 0x151f922b0>"
      ]
     },
     "execution_count": 7,
     "metadata": {},
     "output_type": "execute_result"
    }
   ],
   "source": [
    "%matplotlib widget\n",
    "import matplotlib.pyplot as plt\n",
    "from mpl_toolkits.mplot3d import Axes3D\n",
    "\n",
    "plt.style.use('seaborn-talk')\n",
    "\n",
    "\n",
    "axis_labels =  ['[SO$_4^{2-}$] (mM)','[Ca$^{2+}$] (mM)', '[Formaldehyde] (mM)', '[CO$_{2(aq)}$] (mM)']\n",
    "\n",
    "\n",
    "fig = plt.figure(figsize=(20,20))\n",
    "ax = fig.add_subplot(111, projection='3d')\n",
    "ax.set_xlabel(axis_labels[0], fontsize=20, labelpad=20)\n",
    "ax.set_ylabel(axis_labels[2], fontsize=20, labelpad=20)\n",
    "ax.set_zlabel('Net calcite precipitation (vol. frac.)', fontsize=20, labelpad=30)\n",
    "ax.tick_params('both', labelsize=18)\n",
    "ax.ticklabel_format(axis='z', style='sci', scilimits=(0,0))\n",
    "ax.set_zlim(-0.5e-4, 14e-4)\n",
    "ax.view_init(elev=15, azim=-128)\n",
    "\n",
    "def shape(obj):\n",
    "    print(np.shape(obj))\n",
    "    \n",
    "\n",
    "ax.plot_trisurf(XX[:,0]*1000, XX[:,2]*1000, vals.numpy().reshape(-1) * 1e-4,  cmap=plt.cm.magma)\n",
    "\n"
   ]
  },
  {
   "cell_type": "code",
   "execution_count": 9,
   "metadata": {},
   "outputs": [],
   "source": [
    "fig.savefig('/Users/angus/PhD_pres/3D_plots/1086_form_so4', dpi=300)"
   ]
  },
  {
   "cell_type": "code",
   "execution_count": null,
   "metadata": {},
   "outputs": [],
   "source": []
  },
  {
   "cell_type": "code",
   "execution_count": null,
   "metadata": {},
   "outputs": [],
   "source": []
  }
 ],
 "metadata": {
  "kernelspec": {
   "display_name": "Python 3",
   "language": "python",
   "name": "python3"
  },
  "language_info": {
   "codemirror_mode": {
    "name": "ipython",
    "version": 3
   },
   "file_extension": ".py",
   "mimetype": "text/x-python",
   "name": "python",
   "nbconvert_exporter": "python",
   "pygments_lexer": "ipython3",
   "version": "3.8.7"
  }
 },
 "nbformat": 4,
 "nbformat_minor": 4
}

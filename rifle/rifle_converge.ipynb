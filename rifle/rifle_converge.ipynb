{
 "cells": [
  {
   "cell_type": "code",
   "execution_count": 1,
   "metadata": {},
   "outputs": [
    {
     "data": {
      "text/plain": [
       "'%.4f'"
      ]
     },
     "execution_count": 1,
     "metadata": {},
     "output_type": "execute_result"
    }
   ],
   "source": [
    "import warnings\n",
    "import numpy as np\n",
    "\n",
    "from importlib import reload\n",
    "\n",
    "import wandb\n",
    "\n",
    "from context import omphalos\n",
    "\n",
    "# Import Omphalos modules.\n",
    "from omphalos import generate_inputs as gi\n",
    "from omphalos import file_methods as fm\n",
    "from omphalos import my_metrics as mm\n",
    "from omphalos import omphalos_plotter as op\n",
    "from omphalos import attributes as attr\n",
    "from omphalos import labels as lbls\n",
    "from omphalos import spatial_constructor\n",
    "\n",
    "from matplotlib import pyplot as plt\n",
    "\n",
    "%matplotlib inline\n",
    "%precision 4"
   ]
  },
  {
   "cell_type": "code",
   "execution_count": 6,
   "metadata": {},
   "outputs": [
    {
     "name": "stdout",
     "output_type": "stream",
     "text": [
      "CPU times: user 6min 16s, sys: 1min 24s, total: 7min 40s\n",
      "Wall time: 8min 46s\n"
     ]
    }
   ],
   "source": [
    "%%time\n",
    "\n",
    "np.random.seed(0)\n",
    "\n",
    "train_set = fm.unpickle('data/old_rifle.pkl')\n",
    "\n",
    "\n",
    "attributes_df = attr.boundary_condition(train_set, boundary='x_begin')\n",
    "labels_df = lbls.secondary_precip(train_set)"
   ]
  },
  {
   "cell_type": "code",
   "execution_count": 7,
   "metadata": {},
   "outputs": [],
   "source": [
    "x = attributes_df.loc[:, ['NH4+', 'SO4--','Ca++', 'Acetate', 'CO2(aq)']]\n",
    "y = labels_df.sum(level=0)['FeS(am)'] + labels_df.sum(level=0)['FeS34(am)']\n",
    "\n",
    "x = x.to_numpy()\n",
    "y = y.to_numpy().reshape(-1,1)\n",
    "y = y * 1e4\n",
    "\n",
    "\n",
    "from sklearn.model_selection import train_test_split\n",
    "\n",
    "x_train, x_test, y_train, y_test = train_test_split(x, y, test_size=0.2, random_state=2)"
   ]
  },
  {
   "cell_type": "code",
   "execution_count": null,
   "metadata": {},
   "outputs": [],
   "source": [
    "%%time\n",
    "import xgboost as xgb\n",
    "\n",
    "wandb.init(project='xgboost_rifle')\n",
    "\n",
    "dtrain = xgb.DMatrix(x_train, label=y_train)\n",
    "dtest = xgb.DMatrix(x_test, label=y_test)\n",
    "\n",
    "evallist = [(dtest, 'eval'), (dtrain, 'train')]\n",
    "param = {'max_depth': 6, 'eta': 0.0001, 'objective': 'reg:pseudohubererror', 'alpha': 1, 'lambda': 1}\n",
    "\n",
    "results = {}\n",
    "\n",
    "num_round = 1000000\n",
    "bst = xgb.train(param, dtrain, num_round, evallist, evals_result=results,early_stopping_rounds=500, verbose_eval=False, callbacks=[wandb.xgboost.wandb_callback()])"
   ]
  },
  {
   "cell_type": "code",
   "execution_count": 8,
   "metadata": {},
   "outputs": [],
   "source": [
    "import gpflow_plotting as gpfp\n",
    "from importlib import reload  \n",
    "reload(gpfp)\n",
    "\n",
    "plt.style.use('seaborn-talk')\n",
    "\n",
    "\n",
    "# Make figure and layout.\n",
    "\n",
    "fig = plt.figure(figsize=(25, 16))\n",
    "\n",
    "plt.subplots_adjust(wspace=1, hspace=0.25)\n",
    "\n",
    "# Generate uneven subplots\n",
    "sub1 = fig.add_subplot(2,6,(1,2), xlim=(0,30), ylim=(0, 0.004))\n",
    "sub2 = fig.add_subplot(2,6,(3,4))\n",
    "sub3 = fig.add_subplot(2,6,(5,6))\n",
    "sub4 = fig.add_subplot(2,6,(8,9))\n",
    "sub5 = fig.add_subplot(2,6,(10,11))\n",
    "\n",
    "axis_list = [sub1, sub2, sub3, sub4, sub5]\n",
    "\n",
    "\n",
    "species_list = ['NH4+', 'SO4--','Ca++', 'Acetate', 'CO2(aq)']\n",
    "axis_labels = ['[NH$_4^+$] (mM)', '[SO$_4^{2-}$] (mM)','[Ca$^2+$] (mM)', '[Acetate] (mM)', '[CO$_{2(aq)}$] (mM)']\n",
    "\n",
    "samples = 50\n",
    "dims = 5\n",
    "plot_vars = np.arange(dims)\n",
    "\n",
    "predict_range = (0,30)\n",
    "\n",
    "defaults = np.ones((samples, dims))\n",
    "# Default (Druhan 2014)\n",
    "defaults[:,0] = 1.5\n",
    "defaults[:,1] = 8.8\n",
    "defaults[:,2] = 4.8\n",
    "defaults[:,3] = 9.7\n",
    "defaults[:,4] = 0.0325\n",
    "\n",
    "\n",
    "for plot_var, x_label, species, ax in zip(plot_vars, axis_labels, species_list, axis_list):\n",
    "\n",
    "    path = 'data/rifle_sweeps/{}.pkl'.format(species)    \n",
    "\n",
    "    sweep_x, sweep_y = gpfp.get_sweep(path, species, 'amendment', ('FeS(am)', 'FeS34(am)'))\n",
    "    ax.scatter(sweep_x, sweep_y, c=\"k\", marker='+', s=100,label='RTM results')\n",
    "\n",
    "    ax.set_xlabel(x_label, fontsize=20)\n",
    "    ax.set_ylabel('Net pyrite precipitation (vol. frac.)', fontsize=20)\n",
    "    ax.set_xlim(0, 30)\n",
    "    ax.set_xticks(ax.get_xticks()[::5])\n",
    "    ax.set_ylim(0.00, 0.0040)\n",
    "    #ax.tick_params('both', labelsize=18)\n",
    "\n",
    "size_list = 10, 100, 1000, 5000, 10000\n",
    "    \n",
    "for forest_size in size_list:\n",
    "    import xgboost as xgb\n",
    "    \n",
    "    dtrain = xgb.DMatrix(x_train, label=y_train)\n",
    "    dtest = xgb.DMatrix(x_test, label=y_test)\n",
    "\n",
    "    evallist = [(dtest, 'eval'), (dtrain, 'train')]\n",
    "    param = {'max_depth': 6, 'eta': 0.0001, 'objective': 'reg:pseudohubererror', 'alpha': 1, 'lambda': 1}\n",
    "\n",
    "    results = {}\n",
    "\n",
    "    num_round = forest_size\n",
    "    bst = xgb.train(param, dtrain, num_round, evallist, evals_result=results,early_stopping_rounds=500, verbose_eval=False)\n",
    "\n",
    "    for plot_var, x_label, species, ax in zip(plot_vars, axis_labels, species_list, axis_list):\n",
    "        defaults = np.ones((samples, dims))\n",
    "        # Default (Druhan 2014)\n",
    "        defaults[:,0] = 1.5\n",
    "        defaults[:,1] = 8.8\n",
    "        defaults[:,2] = 4.8\n",
    "        defaults[:,3] = 9.7\n",
    "        defaults[:,4] = 0.0325\n",
    "\n",
    "        defaults[:,plot_var] =  np.linspace(predict_range[0], predict_range[1], len(defaults[:, plot_var]))\n",
    "\n",
    "        ypred = bst.predict(xgb.DMatrix(defaults))\n",
    "\n",
    "        ax.plot(defaults[:, plot_var], ypred * 1e-4, label='GBTree fit')"
   ]
  },
  {
   "cell_type": "code",
   "execution_count": 9,
   "metadata": {},
   "outputs": [],
   "source": [
    "new_bst = xgb.Booster()\n",
    "new_bst.load_model(fname='rifle_xgb.json')\n",
    "\n",
    "for plot_var, x_label, species, ax in zip(plot_vars, axis_labels, species_list, axis_list):\n",
    "    defaults = np.ones((samples, dims))\n",
    "    # Default (Druhan 2014)\n",
    "    defaults[:,0] = 1.5\n",
    "    defaults[:,1] = 8.8\n",
    "    defaults[:,2] = 4.8\n",
    "    defaults[:,3] = 9.7\n",
    "    defaults[:,4] = 0.0325\n",
    "\n",
    "    defaults[:,plot_var] =  np.linspace(predict_range[0], predict_range[1], len(defaults[:, plot_var]))\n",
    "\n",
    "    ypred = new_bst.predict(xgb.DMatrix(defaults))\n",
    "\n",
    "    ax.plot(defaults[:, plot_var], ypred * 1e-4)\n",
    "        \n",
    "sub5.legend(('10 trees', '100 trees', '1000 trees', '5000 trees', '10000 trees', '1000000 trees', 'RTM results'), fontsize=20, bbox_to_anchor=(1, 0, 1, 1), loc=\"lower left\", mode=\"expand\", ncol=1)\n",
    "\n",
    "plt.show()"
   ]
  },
  {
   "cell_type": "code",
   "execution_count": 13,
   "metadata": {},
   "outputs": [],
   "source": [
    "fig.savefig('/Users/angus/Dropbox/ompahlos_paper/figures/convergence.png', dpi=300)"
   ]
  },
  {
   "cell_type": "code",
   "execution_count": null,
   "metadata": {},
   "outputs": [],
   "source": []
  },
  {
   "cell_type": "code",
   "execution_count": null,
   "metadata": {},
   "outputs": [],
   "source": []
  }
 ],
 "metadata": {
  "kernelspec": {
   "display_name": "Python 3",
   "language": "python",
   "name": "python3"
  },
  "language_info": {
   "codemirror_mode": {
    "name": "ipython",
    "version": 3
   },
   "file_extension": ".py",
   "mimetype": "text/x-python",
   "name": "python",
   "nbconvert_exporter": "python",
   "pygments_lexer": "ipython3",
   "version": "3.8.7"
  }
 },
 "nbformat": 4,
 "nbformat_minor": 4
}

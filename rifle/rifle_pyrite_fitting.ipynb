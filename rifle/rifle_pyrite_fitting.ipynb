{
 "cells": [
  {
   "cell_type": "code",
   "execution_count": 1,
   "metadata": {},
   "outputs": [],
   "source": [
    "from context import omphalos\n",
    "\n",
    "import numpy as np\n",
    "import matplotlib as pyplot\n",
    "# Import Omphalos modules.\n",
    "from omphalos import generate_inputs as gi\n",
    "from omphalos import file_methods as fm\n",
    "from omphalos import my_metrics as mm\n",
    "from omphalos import omphalos_plotter as op\n",
    "from omphalos import attributes as attr\n",
    "from omphalos import labels as lbls\n",
    "import sys\n",
    "import subprocess\n",
    "import pickle\n",
    "\n",
    "import warnings\n",
    "import numpy as np\n",
    "import gpflow\n",
    "import tensorflow as tf\n",
    "\n",
    "from matplotlib import pyplot as plt\n",
    "\n",
    "from gpflow.ci_utils import ci_niter, ci_range\n",
    "from gpflow.models import VGP, GPR, SGPR, SVGP\n",
    "from gpflow.optimizers import NaturalGradient\n",
    "from gpflow.optimizers.natgrad import XiSqrtMeanVar\n",
    "from gpflow import set_trainable\n",
    "\n",
    "%matplotlib inline\n",
    "%precision 4\n",
    "\n",
    "np.random.seed(0)\n",
    "tf.random.set_seed(0)\n",
    "\n",
    "N, D = 100, 2\n",
    "batch_size = 50\n",
    "\n",
    "# inducing points\n",
    "M = 10\n",
    "\n",
    "inducing_variable = tf.random.uniform((M, D))\n",
    "adam_learning_rate = 0.01\n",
    "iterations = ci_niter(5)\n",
    "autotune = tf.data.experimental.AUTOTUNE"
   ]
  },
  {
   "cell_type": "code",
   "execution_count": 2,
   "metadata": {},
   "outputs": [
    {
     "name": "stderr",
     "output_type": "stream",
     "text": [
      "/usr/local/lib/python3.8/site-packages/pandas/core/frame.py:6390: SettingWithCopyWarning: \n",
      "A value is trying to be set on a copy of a slice from a DataFrame.\n",
      "Try using .loc[row_indexer,col_indexer] = value instead\n",
      "\n",
      "See the caveats in the documentation: https://pandas.pydata.org/pandas-docs/stable/user_guide/indexing.html#returning-a-view-versus-a-copy\n",
      "  self[col] = expressions.where(mask, this, that)\n"
     ]
    }
   ],
   "source": [
    "train_set = fm.unpickle('data/rifle_pyrite.pickle')\n",
    "\n",
    "attributes_df = attr.boundary_condition(train_set, boundary='x_begin')\n",
    "labels_df = lbls.secondary_precip(train_set)"
   ]
  },
  {
   "cell_type": "code",
   "execution_count": 3,
   "metadata": {},
   "outputs": [],
   "source": [
    "x = attributes_df.loc[:, ['NH4+', 'SO4--','Ca++', 'Acetate', 'CO2(aq)']]\n",
    "y = labels_df.sum(level=0)['FeS(am)'] + labels_df.sum(level=0)['FeS34(am)']\n",
    "\n",
    "x = x.to_numpy() \n",
    "y = y.to_numpy().reshape(-1,1)\n",
    "y = y * 1e4\n",
    "x = np.log(x)\n",
    "\n",
    "data = (x,y)"
   ]
  },
  {
   "cell_type": "code",
   "execution_count": 4,
   "metadata": {},
   "outputs": [
    {
     "name": "stdout",
     "output_type": "stream",
     "text": [
      "╒═════════════════════════╤═══════════╤══════════════════╤═════════╤═════════════╤═══════════════════╤═════════╤══════════════════════════════════════════╕\n",
      "│ name                    │ class     │ transform        │ prior   │ trainable   │ shape             │ dtype   │ value                                    │\n",
      "╞═════════════════════════╪═══════════╪══════════════════╪═════════╪═════════════╪═══════════════════╪═════════╪══════════════════════════════════════════╡\n",
      "│ VGP.kernel.variance     │ Parameter │ Softplus         │         │ True        │ ()                │ float64 │ 1.0                                      │\n",
      "├─────────────────────────┼───────────┼──────────────────┼─────────┼─────────────┼───────────────────┼─────────┼──────────────────────────────────────────┤\n",
      "│ VGP.kernel.lengthscales │ Parameter │ Softplus         │         │ True        │ (5,)              │ float64 │ [1., 1., 1....                           │\n",
      "├─────────────────────────┼───────────┼──────────────────┼─────────┼─────────────┼───────────────────┼─────────┼──────────────────────────────────────────┤\n",
      "│ VGP.likelihood.variance │ Parameter │ Softplus + Shift │         │ True        │ ()                │ float64 │ 1.0                                      │\n",
      "├─────────────────────────┼───────────┼──────────────────┼─────────┼─────────────┼───────────────────┼─────────┼──────────────────────────────────────────┤\n",
      "│ VGP.q_mu                │ Parameter │ Identity         │         │ True        │ (10000, 1)        │ float64 │ [[1.7098e+01...                          │\n",
      "├─────────────────────────┼───────────┼──────────────────┼─────────┼─────────────┼───────────────────┼─────────┼──────────────────────────────────────────┤\n",
      "│ VGP.q_sqrt              │ Parameter │ FillTriangular   │         │ True        │ (1, 10000, 10000) │ float64 │ [[[2.0693e-01, 0.0000e+00, 0.0000e+00... │\n",
      "╘═════════════════════════╧═══════════╧══════════════════╧═════════╧═════════════╧═══════════════════╧═════════╧══════════════════════════════════════════╛\n",
      "CPU times: user 46min 5s, sys: 3min 52s, total: 49min 58s\n",
      "Wall time: 13min 27s\n"
     ]
    }
   ],
   "source": [
    "%%time\n",
    "\n",
    "vgp = VGP(data, kernel=gpflow.kernels.Matern52(lengthscales=[1,1,1,1,1], active_dims=[0,1,2,3,4]), likelihood=gpflow.likelihoods.Gaussian())\n",
    "vgp.elbo().numpy()\n",
    "\n",
    "natgrad_opt = NaturalGradient(gamma=1.0)\n",
    "variational_params = [(vgp.q_mu, vgp.q_sqrt)]\n",
    "natgrad_opt.minimize(vgp.training_loss, var_list=variational_params)\n",
    "vgp.elbo().numpy()\n",
    "\n",
    "from gpflow.utilities import print_summary\n",
    "print_summary(vgp)"
   ]
  },
  {
   "cell_type": "code",
   "execution_count": 5,
   "metadata": {},
   "outputs": [
    {
     "name": "stdout",
     "output_type": "stream",
     "text": [
      "CPU times: user 28.8 s, sys: 20 s, total: 48.8 s\n",
      "Wall time: 29.1 s\n"
     ]
    }
   ],
   "source": [
    "%%time\n",
    "\n",
    "plot_var=1\n",
    "# We define a function that plots the model's prediction (in the form of samples) together with the data.\n",
    "# Importantly, this function has no other argument than `fig: matplotlib.figure.Figure` and `ax: matplotlib.figure.Axes`.\n",
    "X=x\n",
    "Y=y\n",
    "\n",
    "# plot the function posterior\n",
    "samp = 50\n",
    "xx = np.ones((samp, 5))\n",
    "xx[:,0] = 1.5\n",
    "xx[:,1] = 8.8\n",
    "xx[:,2] = 20\n",
    "xx[:,3] = 9.7\n",
    "xx[:,4] = 0.0325\n",
    "xx[:,plot_var] =  np.linspace(1e-7, 30, samp)\n",
    "\n",
    "xx = np.log(xx)\n",
    "\n",
    "Xnew=xx\n",
    "\n",
    "mean, var = vgp.predict_f(xx)"
   ]
  },
  {
   "cell_type": "code",
   "execution_count": null,
   "metadata": {},
   "outputs": [],
   "source": [
    "sweep = fm.unpickle('data/rifle_sweeps/rifle_so4_sweep.pickle')\n",
    "\n",
    "sweep_attr = attr.boundary_condition(sweep, boundary='x_begin')\n",
    "sweep_lbls = lbls.secondary_precip(sweep)\n",
    "\n",
    "sweep_x = sweep_attr.loc[:, 'SO4--']\n",
    "sweep_y = sweep_lbls.sum(level=0)['FeS(am)'] + sweep_lbls.sum(level=0)['FeS34(am)']\n",
    "sweep_y = sweep_y"
   ]
  },
  {
   "cell_type": "code",
   "execution_count": null,
   "metadata": {},
   "outputs": [],
   "source": [
    "sweep[0].condition_blocks['amendment'].primary_species"
   ]
  },
  {
   "cell_type": "code",
   "execution_count": null,
   "metadata": {},
   "outputs": [],
   "source": [
    "def plot_prediction(fig, ax):\n",
    "    #Ypred = vgp.predict_f_samples(Xnew, full_cov=True, num_samples=20)\n",
    "    #ax.plot(np.exp(Xnew[:,1]), np.squeeze(Ypred).T, \"C1\", alpha=0.2)\n",
    "    ax.scatter(sweep_x, sweep_y, c=\"k\", marker='+', s=100,label='RTM results')\n",
    "    ax.plot(np.exp(Xnew[:, plot_var]), mean * 1e-4, label='GPR fit')\n",
    "    ax.fill_between(np.exp(Xnew[:, plot_var]), (mean[:,0] - 2 * np.sqrt(var[:,0])) * 1e-4, (mean[:,0] + 2 * np.sqrt(var[:,0])) * 1e-4, color=\"C0\", alpha=0.2, label='95% confidence interval')\n",
    "\n",
    "axis_labels = ['[NH$_4^+$] (mM)', '[SO$_4^{2-}$] (mM)','[Ca$^2+$] (mM)', '[Acetate] (mM)', '[CO$_{2(aq)}$] (bar)']\n",
    "\n",
    "# Let's check if the function does the desired plotting\n",
    "fig = plt.figure(figsize=(16,9))\n",
    "ax = fig.subplots()\n",
    "plot_prediction(fig, ax)\n",
    "ax.set_xlabel(axis_labels[plot_var], fontsize=20)\n",
    "ax.set_ylabel('Net pyrite precipitation (vol. frac.)', fontsize=20)\n",
    "ax.legend(fontsize=20)\n",
    "ax.tick_params('both', labelsize=18)\n",
    "ax.set_xlim(0, 30)\n",
    "ax.set_ylim(0, 0.0040)\n",
    "\n",
    "\n",
    "path = '/Users/angus/PhD_pres/fit_plots/rifle{}'.format(plot_var)\n",
    "fig.savefig(path, dpi=300)"
   ]
  },
  {
   "cell_type": "code",
   "execution_count": 27,
   "metadata": {},
   "outputs": [
    {
     "name": "stdout",
     "output_type": "stream",
     "text": [
      "CPU times: user 37.1 s, sys: 24.3 s, total: 1min 1s\n",
      "Wall time: 37.8 s\n"
     ]
    }
   ],
   "source": [
    "%%time\n",
    "\n",
    "num = 20\n",
    "upper = 30\n",
    "lower = 1e-5\n",
    "x1 = np.linspace(lower, upper, num)\n",
    "x2 = np.linspace(lower, upper, num)\n",
    "x1_mesh, x2_mesh = np.meshgrid(x1, x2)\n",
    "X = np.dstack([x1_mesh, x2_mesh]).reshape(-1, 2)\n",
    "\n",
    "control_vals = np.zeros((num**2, 5))\n",
    "\n",
    "control_vals[:,0] = 1.5 # NH4+\n",
    "control_vals[:,1] = 8.8 # SO4--\n",
    "control_vals[:,2] = 20.0 # Ca++  \n",
    "control_vals[:,3] = 9.7 # Acetate\n",
    "control_vals[:,4] = 0.0325 # CO2\n",
    "\n",
    "\n",
    "XX = np.hstack((control_vals[:,0].reshape(-1,1), X[:,0].reshape(-1,1), control_vals[:,2].reshape(-1,1), X[:,1].reshape(-1,1), control_vals[:,4].reshape(-1,1)))\n",
    "\n",
    "vals, var = vgp.predict_f(np.log(XX))"
   ]
  },
  {
   "cell_type": "code",
   "execution_count": 24,
   "metadata": {},
   "outputs": [
    {
     "name": "stdout",
     "output_type": "stream",
     "text": [
      "CPU times: user 35.6 s, sys: 20.5 s, total: 56.2 s\n",
      "Wall time: 32 s\n"
     ]
    }
   ],
   "source": [
    "%%time\n",
    "\n",
    "num = 20\n",
    "upper = 30\n",
    "lower = 1e-5\n",
    "x1 = np.linspace(lower, upper, num)\n",
    "x2 = np.linspace(lower, 10, num)\n",
    "x1_mesh, x2_mesh = np.meshgrid(x1, x2)\n",
    "X = np.dstack([x1_mesh, x2_mesh]).reshape(-1, 2)\n",
    "\n",
    "control_vals = np.zeros((num**2, 5))\n",
    "\n",
    "control_vals[:,0] = 1.5 # NH4+\n",
    "control_vals[:,1] = 8.8 # SO4--\n",
    "control_vals[:,2] = 20.0 # Ca++  \n",
    "control_vals[:,3] = 9.7 # Acetate\n",
    "control_vals[:,4] = 0.0325 # CO2\n",
    "\n",
    "\n",
    "XX = np.hstack((control_vals[:,0].reshape(-1,1), X[:,0].reshape(-1,1), control_vals[:,2].reshape(-1,1), control_vals[:,3].reshape(-1,1), X[:,1].reshape(-1,1)))\n",
    "\n",
    "vals, var = vgp.predict_f(np.log(XX))"
   ]
  },
  {
   "cell_type": "code",
   "execution_count": 15,
   "metadata": {},
   "outputs": [],
   "source": [
    "%%time\n",
    "\n",
    "#Finding best parameter set!\n",
    "num = 7\n",
    "upper = 30\n",
    "lower = 1e-5\n",
    "x1 = np.linspace(lower, upper, num)\n",
    "x2 = np.linspace(lower, upper, num)\n",
    "x3 = np.linspace(lower, upper, num)\n",
    "x4 = np.linspace(lower, upper, num)\n",
    "x5 = np.linspace(lower, 10, num)\n",
    "\n",
    "X = np.stack(np.meshgrid(x1, x2, x3, x4, x5), -1).reshape(-1, 5)\n",
    "\n",
    "vals, var = vgp.predict_f(np.log(X))\n",
    "\n",
    "max_index = np.argmax(vals)\n",
    "\n",
    "print(max_index)\n",
    "print(X[max_index])\n",
    "\n",
    "vals[max_index] * 1e-4"
   ]
  },
  {
   "cell_type": "code",
   "execution_count": 30,
   "metadata": {},
   "outputs": [
    {
     "data": {
      "application/vnd.jupyter.widget-view+json": {
       "model_id": "b329913911ce4de0ade67e2e7881198c",
       "version_major": 2,
       "version_minor": 0
      },
      "text/plain": [
       "Canvas(toolbar=Toolbar(toolitems=[('Home', 'Reset original view', 'home', 'home'), ('Back', 'Back to previous …"
      ]
     },
     "metadata": {},
     "output_type": "display_data"
    },
    {
     "data": {
      "text/plain": [
       "<mpl_toolkits.mplot3d.art3d.Poly3DCollection at 0x1448ca580>"
      ]
     },
     "execution_count": 30,
     "metadata": {},
     "output_type": "execute_result"
    }
   ],
   "source": [
    "%matplotlib widget\n",
    "import matplotlib.pyplot as plt\n",
    "from mpl_toolkits.mplot3d import Axes3D\n",
    "\n",
    "plt.style.use('seaborn-talk')\n",
    "\n",
    "\n",
    "axis_labels =  ['[SO$_4^{2-}$] (mM)','[Ca$^{2+}$] (mM)', '[Acetate] (mM)', '[CO$_{2(aq)}$] (bar)']\n",
    "\n",
    "\n",
    "fig = plt.figure(figsize=(20,20))\n",
    "ax = fig.add_subplot(111, projection='3d')\n",
    "ax.set_xlabel(axis_labels[2], fontsize=20, labelpad=20)\n",
    "ax.set_ylabel(axis_labels[0], fontsize=20, labelpad=20)\n",
    "ax.set_zlabel('Net pyrite precipitation (vol. frac.)', fontsize=20, labelpad=30)\n",
    "ax.tick_params('both', labelsize=18)\n",
    "ax.ticklabel_format(axis='z', style='sci', scilimits=(0,0))\n",
    "ax.set_zlim(-0.5e-3, 5e-3)\n",
    "ax.view_init(elev=28, azim=-111)\n",
    "def shape(obj):\n",
    "    print(np.shape(obj))\n",
    "    \n",
    "\n",
    "ax.plot_trisurf(XX[:,3], XX[:,1], vals.numpy().reshape(-1) * 1e-4,  cmap=plt.cm.magma)\n",
    "\n"
   ]
  },
  {
   "cell_type": "code",
   "execution_count": 31,
   "metadata": {},
   "outputs": [],
   "source": [
    "fig.savefig('/Users/angus/PhD_pres/3D_plots/rifle_acetate_so4', dpi=300)"
   ]
  },
  {
   "cell_type": "code",
   "execution_count": null,
   "metadata": {},
   "outputs": [],
   "source": []
  }
 ],
 "metadata": {
  "kernelspec": {
   "display_name": "Python 3",
   "language": "python",
   "name": "python3"
  },
  "language_info": {
   "codemirror_mode": {
    "name": "ipython",
    "version": 3
   },
   "file_extension": ".py",
   "mimetype": "text/x-python",
   "name": "python",
   "nbconvert_exporter": "python",
   "pygments_lexer": "ipython3",
   "version": "3.8.6"
  }
 },
 "nbformat": 4,
 "nbformat_minor": 4
}

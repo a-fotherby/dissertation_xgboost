{
 "cells": [
  {
   "cell_type": "code",
   "execution_count": 1,
   "metadata": {},
   "outputs": [
    {
     "data": {
      "text/plain": [
       "'%.4f'"
      ]
     },
     "execution_count": 1,
     "metadata": {},
     "output_type": "execute_result"
    }
   ],
   "source": [
    "import warnings\n",
    "import numpy as np\n",
    "\n",
    "import os\n",
    "\n",
    "os.environ['KMP_DUPLICATE_LIB_OK']='True'\n",
    "\n",
    "from importlib import reload\n",
    "\n",
    "import wandb\n",
    "\n",
    "from context import omphalos\n",
    "\n",
    "# Import Omphalos modules.\n",
    "from omphalos import generate_inputs as gi\n",
    "from omphalos import file_methods as fm\n",
    "from omphalos import my_metrics as mm\n",
    "from omphalos import omphalos_plotter as op\n",
    "from omphalos import attributes as attr\n",
    "from omphalos import labels as lbls\n",
    "from omphalos import spatial_constructor\n",
    "\n",
    "from matplotlib import pyplot as plt\n",
    "\n",
    "import xgboost as xgb\n",
    "\n",
    "%matplotlib osx\n",
    "%precision 4"
   ]
  },
  {
   "cell_type": "code",
   "execution_count": 2,
   "metadata": {},
   "outputs": [],
   "source": [
    "bst = xgb.Booster()\n",
    "bst.load_model(fname='rifle_xgb.json')"
   ]
  },
  {
   "cell_type": "code",
   "execution_count": 3,
   "metadata": {},
   "outputs": [
    {
     "name": "stdout",
     "output_type": "stream",
     "text": [
      "CPU times: user 18 µs, sys: 9 µs, total: 27 µs\n",
      "Wall time: 73 µs\n"
     ]
    }
   ],
   "source": [
    "%%time\n",
    "\n",
    "species_list = ['NH4+', 'SO4--','Ca++', 'Acetate', 'CO2(aq)']\n",
    "axis_labels = ['[NH$_4^+$] (mM)', '[SO$_4^{2-}$] (mM)','[Ca$^2+$] (mM)', '[Acetate] (mM)', '[CO$_{2(aq)}$] (mM)']\n",
    "\n",
    "def plot_2d(ax, plot_vars):\n",
    "    num = 20\n",
    "    upper = 30\n",
    "    lower = 0\n",
    "    x1 = np.linspace(lower, upper, num) # NH4+\n",
    "    x2 = np.linspace(lower, upper, num) # SO4--\n",
    "    x1_mesh,x2_mesh = np.meshgrid(x1, x2)\n",
    "    X = np.dstack([x1_mesh, x2_mesh]).reshape(-1, 2)\n",
    "\n",
    "    defaults = np.zeros((num**2, 5))\n",
    "    defaults[:,0] = 1.5 # NH4+\n",
    "    defaults[:,1] = 8.8 # SO4--\n",
    "    defaults[:,2] = 4.8 # Ca++\n",
    "    defaults[:,3] = 9.7 # Acetate\n",
    "    defaults[:,4] = 0.0325 # CO2(aq)\n",
    "\n",
    "    defaults[:, plot_vars[0]] = X[:, 0]\n",
    "    defaults[:, plot_vars[1]] = X[:, 1]\n",
    "\n",
    "    vals = bst.predict(xgb.DMatrix(defaults))\n",
    "\n",
    "    ax.plot_trisurf(X[:,0], X[:,1], vals*1e-4, cmap=plt.cm.magma, linewidth=0, antialiased=False)\n",
    "    \n",
    "    ax.set_xlabel(axis_labels[plot_vars[0]], fontsize=18, labelpad=20)\n",
    "    ax.set_ylabel(axis_labels[plot_vars[1]], fontsize=18, labelpad=20)\n",
    "    ax.set_zlabel('Net pyrite precipitation (vol. frac.)', fontsize=18, labelpad=20)\n",
    "    ax.tick_params('both', labelsize=15, pad=10)\n",
    "    #ax.ticklabel_format(axis='z', style='sci', scilimits=(0,0))\n",
    "    ax.view_init(elev=15, azim=-128)\n",
    "    return"
   ]
  },
  {
   "cell_type": "code",
   "execution_count": 6,
   "metadata": {},
   "outputs": [],
   "source": [
    "#%matplotlib widget\n",
    "import matplotlib.pyplot as plt\n",
    "from mpl_toolkits.mplot3d import Axes3D\n",
    "import string\n",
    "\n",
    "plt.style.use('seaborn-paper')\n",
    "\n",
    "\n",
    "axis_labels = ['[NH$_4^+$] (mM)', '[SO$_4^{2-}$] (mM)','[Ca$^2+$] (mM)', '[Acetate] (mM)', '[CO$_{2(g)}$] (bar)']\n",
    "\n",
    "\n",
    "fig = plt.figure(figsize=(20,20))\n",
    "ax1 = fig.add_subplot(251, projection='3d')\n",
    "ax2 = fig.add_subplot(252, projection='3d')\n",
    "ax3 = fig.add_subplot(253, projection='3d')\n",
    "ax4 = fig.add_subplot(254, projection='3d')\n",
    "ax5 = fig.add_subplot(255, projection='3d')\n",
    "ax6 = fig.add_subplot(256, projection='3d')\n",
    "ax7 = fig.add_subplot(257, projection='3d')\n",
    "ax8 = fig.add_subplot(258, projection='3d')\n",
    "ax9 = fig.add_subplot(259, projection='3d')\n",
    "ax10 = fig.add_subplot(2,5,(10), projection='3d')\n",
    "\n",
    "ax_list = [ax1, ax2, ax3, ax4, ax5, ax6, ax7, ax8, ax9, ax10]\n",
    "\n",
    "plot_list = [(0,1), (0,2), (0,3), (0,4), (1,2), (1,3), (1,4), (2,3), (2,4), (3,4)]\n",
    "\n",
    "for ax, i, n in zip(ax_list, plot_list, np.arange(len(plot_list))):\n",
    "        plot_2d(ax, i)\n",
    "        ax.text2D(-0.1, 1.1, '({})'.format(string.ascii_uppercase[n]), transform=ax.transAxes, size=20)"
   ]
  },
  {
   "cell_type": "code",
   "execution_count": 7,
   "metadata": {},
   "outputs": [],
   "source": [
    "fig.savefig('/Users/angus/Dropbox/dissertation/rifle_2d.png', dpi=300)"
   ]
  },
  {
   "cell_type": "code",
   "execution_count": 74,
   "metadata": {},
   "outputs": [
    {
     "name": "stdout",
     "output_type": "stream",
     "text": [
      "CPU times: user 1h 15min 52s, sys: 2min 40s, total: 1h 18min 33s\n",
      "Wall time: 20min 41s\n"
     ]
    }
   ],
   "source": [
    "%%time\n",
    "\n",
    "#Finding best parameter set!\n",
    "num = 15\n",
    "upper = 30\n",
    "lower = 0\n",
    "x1 = np.linspace(lower, upper, num)\n",
    "x2 = np.linspace(lower, upper, num)\n",
    "x3 = np.linspace(lower, upper, num)\n",
    "x4 = np.linspace(lower, upper, num)\n",
    "x5 = np.linspace(lower, 10, num)\n",
    "\n",
    "XX = np.stack(np.meshgrid(x1, x2, x3, x4, x5), -1).reshape(-1, 5)\n",
    "\n",
    "vals = bst.predict(xgb.DMatrix(XX))\n",
    "\n",
    "max_index = np.argmax(vals)\n",
    "\n",
    "print(max_index)\n",
    "print(XX[max_index])\n",
    "print(vals[max_index]*1e-4)"
   ]
  },
  {
   "cell_type": "code",
   "execution_count": null,
   "metadata": {},
   "outputs": [],
   "source": []
  }
 ],
 "metadata": {
  "kernelspec": {
   "display_name": "Python 3",
   "language": "python",
   "name": "python3"
  },
  "language_info": {
   "codemirror_mode": {
    "name": "ipython",
    "version": 3
   },
   "file_extension": ".py",
   "mimetype": "text/x-python",
   "name": "python",
   "nbconvert_exporter": "python",
   "pygments_lexer": "ipython3",
   "version": "3.8.8"
  }
 },
 "nbformat": 4,
 "nbformat_minor": 4
}

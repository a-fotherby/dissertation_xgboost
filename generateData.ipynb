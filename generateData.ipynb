{
 "cells": [
  {
   "cell_type": "code",
   "execution_count": 8,
   "metadata": {},
   "outputs": [],
   "source": [
    "from context import omphalos\n",
    "\n",
    "import numpy as np\n",
    "import matplotlib as pyplot\n",
    "import omphalos.file_methods as fm\n",
    "import omphalos.input_file as ipf\n",
    "import omphalos.generate_inputs as gi\n",
    "import omphalos.run\n",
    "import sys\n",
    "import subprocess\n",
    "import pickle\n",
    "import omphalos.labels as lbls"
   ]
  },
  {
   "cell_type": "markdown",
   "metadata": {},
   "source": [
    "__Remember to test your input file on its own first!__\n",
    "\n",
    "__Remember to update your database files in /tmp__!"
   ]
  },
  {
   "cell_type": "code",
   "execution_count": 9,
   "metadata": {},
   "outputs": [
    {
     "name": "stdout",
     "output_type": "stream",
     "text": [
      "*** Importing template file ***\n",
      "BaseException: This is normally due to a commented line in the input file. If it is not, something has gone really wrong!\n",
      "BaseException: This is normally due to a commented line in the input file. If it is not, something has gone really wrong!\n",
      "BaseException: This is normally due to a commented line in the input file. If it is not, something has gone really wrong!\n",
      "BaseException: This is normally due to a commented line in the input file. If it is not, something has gone really wrong!\n",
      "BaseException: This is normally due to a commented line in the input file. If it is not, something has gone really wrong!\n",
      "BaseException: This is normally due to a commented line in the input file. If it is not, something has gone really wrong!\n",
      "BaseException: This is normally due to a commented line in the input file. If it is not, something has gone really wrong!\n",
      "BaseException: This is normally due to a commented line in the input file. If it is not, something has gone really wrong!\n",
      "BaseException: This is normally due to a commented line in the input file. If it is not, something has gone really wrong!\n",
      "BaseException: This is normally due to a commented line in the input file. If it is not, something has gone really wrong!\n",
      "BaseException: This is normally due to a commented line in the input file. If it is not, something has gone really wrong!\n",
      "The keyword \"SURFACE_COMPLEXATION\" you searched for does not exist. If you are sure that this keyword is in your input file, check your spelling.\n",
      "The keyword \"BOUNDARY_CONDITIONS\" you searched for does not exist. If you are sure that this keyword is in your input file, check your spelling.\n",
      "The keyword \"TRANSPORT\" you searched for does not exist. If you are sure that this keyword is in your input file, check your spelling.\n",
      "The keyword \"FLOW\" you searched for does not exist. If you are sure that this keyword is in your input file, check your spelling.\n",
      "The keyword \"PEST\" you searched for does not exist. If you are sure that this keyword is in your input file, check your spelling.\n",
      "The keyword \"EROSION/BURIAL\" you searched for does not exist. If you are sure that this keyword is in your input file, check your spelling.\n",
      "*** Creating randomised input files ***\n",
      "*** Begin running input files ***\n",
      "File 0 complete.\n",
      "File 1 complete.\n",
      "File 2 complete.\n",
      "File 3 complete.\n",
      "File 4 complete.\n",
      "File 5 complete.\n",
      "File 6 complete.\n",
      "File 7 complete.\n",
      "File 8 complete.\n",
      "File 9 complete.\n",
      "File 10 complete.\n",
      "File 11 complete.\n",
      "File 12 complete.\n",
      "File 13 complete.\n",
      "File 14 complete.\n",
      "File 15 complete.\n",
      "File 16 complete.\n",
      "File 17 complete.\n",
      "File 18 complete.\n",
      "File 19 complete.\n"
     ]
    }
   ],
   "source": [
    "# Import a template CT input file and iterate on it to make a test set, training set, and validation set.\n",
    "dataset = gi.make_dataset('rifle_box/rifle.yaml')"
   ]
  },
  {
   "cell_type": "code",
   "execution_count": 72,
   "metadata": {},
   "outputs": [],
   "source": [
    "labels_df = lbls.secondary_precip(dataset)"
   ]
  },
  {
   "cell_type": "code",
   "execution_count": 85,
   "metadata": {},
   "outputs": [],
   "source": [
    "y = labels_df.xs(0, level=1)['FeS(am)'] + labels_df.xs(0, level=1)['FeS34(am)']"
   ]
  },
  {
   "cell_type": "code",
   "execution_count": 77,
   "metadata": {},
   "outputs": [],
   "source": [
    "y = labels_df.xs(0, level=1)['Goethite_DIRB']"
   ]
  },
  {
   "cell_type": "code",
   "execution_count": 82,
   "metadata": {},
   "outputs": [
    {
     "data": {
      "text/html": [
       "<div>\n",
       "<style scoped>\n",
       "    .dataframe tbody tr th:only-of-type {\n",
       "        vertical-align: middle;\n",
       "    }\n",
       "\n",
       "    .dataframe tbody tr th {\n",
       "        vertical-align: top;\n",
       "    }\n",
       "\n",
       "    .dataframe thead th {\n",
       "        text-align: right;\n",
       "    }\n",
       "</style>\n",
       "<table border=\"1\" class=\"dataframe\">\n",
       "  <thead>\n",
       "    <tr style=\"text-align: right;\">\n",
       "      <th></th>\n",
       "      <th>X</th>\n",
       "      <th>Y</th>\n",
       "      <th>Z</th>\n",
       "      <th>Ferrihydrite_D</th>\n",
       "      <th>Goethite_DIRB</th>\n",
       "      <th>Goethite</th>\n",
       "      <th>CalciteRifle</th>\n",
       "      <th>MagnesiteRifle</th>\n",
       "      <th>FeS(am)</th>\n",
       "      <th>FeS34(am)</th>\n",
       "      <th>S32</th>\n",
       "      <th>S34</th>\n",
       "      <th>Fe(OH)3</th>\n",
       "      <th>C5H7O2NFe(s)</th>\n",
       "      <th>C5H7O2NSO4(s)</th>\n",
       "      <th>Quartz</th>\n",
       "      <th>decay_b_so4(s)</th>\n",
       "    </tr>\n",
       "    <tr>\n",
       "      <th>File Num</th>\n",
       "      <th></th>\n",
       "      <th></th>\n",
       "      <th></th>\n",
       "      <th></th>\n",
       "      <th></th>\n",
       "      <th></th>\n",
       "      <th></th>\n",
       "      <th></th>\n",
       "      <th></th>\n",
       "      <th></th>\n",
       "      <th></th>\n",
       "      <th></th>\n",
       "      <th></th>\n",
       "      <th></th>\n",
       "      <th></th>\n",
       "      <th></th>\n",
       "      <th></th>\n",
       "    </tr>\n",
       "  </thead>\n",
       "  <tbody>\n",
       "    <tr>\n",
       "      <th>0</th>\n",
       "      <td>5.0</td>\n",
       "      <td>0.5</td>\n",
       "      <td>0.5</td>\n",
       "      <td>NaN</td>\n",
       "      <td>0.0</td>\n",
       "      <td>0.0</td>\n",
       "      <td>-0.000044</td>\n",
       "      <td>-3.399930e-07</td>\n",
       "      <td>0.000044</td>\n",
       "      <td>0.000002</td>\n",
       "      <td>0.000012</td>\n",
       "      <td>5.508725e-07</td>\n",
       "      <td>0.0</td>\n",
       "      <td>0.000053</td>\n",
       "      <td>0.000266</td>\n",
       "      <td>-1.000000e-10</td>\n",
       "      <td>0.0</td>\n",
       "    </tr>\n",
       "    <tr>\n",
       "      <th>1</th>\n",
       "      <td>5.0</td>\n",
       "      <td>0.5</td>\n",
       "      <td>0.5</td>\n",
       "      <td>NaN</td>\n",
       "      <td>0.0</td>\n",
       "      <td>0.0</td>\n",
       "      <td>0.000125</td>\n",
       "      <td>-2.844066e-07</td>\n",
       "      <td>0.000038</td>\n",
       "      <td>0.000002</td>\n",
       "      <td>0.000018</td>\n",
       "      <td>7.868416e-07</td>\n",
       "      <td>0.0</td>\n",
       "      <td>0.000001</td>\n",
       "      <td>0.002194</td>\n",
       "      <td>-1.000000e-10</td>\n",
       "      <td>0.0</td>\n",
       "    </tr>\n",
       "    <tr>\n",
       "      <th>2</th>\n",
       "      <td>5.0</td>\n",
       "      <td>0.5</td>\n",
       "      <td>0.5</td>\n",
       "      <td>NaN</td>\n",
       "      <td>0.0</td>\n",
       "      <td>0.0</td>\n",
       "      <td>0.000182</td>\n",
       "      <td>-2.480869e-07</td>\n",
       "      <td>0.000036</td>\n",
       "      <td>0.000002</td>\n",
       "      <td>0.000019</td>\n",
       "      <td>8.471167e-07</td>\n",
       "      <td>0.0</td>\n",
       "      <td>0.000002</td>\n",
       "      <td>0.001184</td>\n",
       "      <td>-1.000000e-10</td>\n",
       "      <td>0.0</td>\n",
       "    </tr>\n",
       "    <tr>\n",
       "      <th>3</th>\n",
       "      <td>5.0</td>\n",
       "      <td>0.5</td>\n",
       "      <td>0.5</td>\n",
       "      <td>NaN</td>\n",
       "      <td>0.0</td>\n",
       "      <td>0.0</td>\n",
       "      <td>0.000216</td>\n",
       "      <td>-2.131733e-07</td>\n",
       "      <td>0.000035</td>\n",
       "      <td>0.000002</td>\n",
       "      <td>0.000020</td>\n",
       "      <td>8.807452e-07</td>\n",
       "      <td>0.0</td>\n",
       "      <td>0.000002</td>\n",
       "      <td>0.001184</td>\n",
       "      <td>-1.000000e-10</td>\n",
       "      <td>0.0</td>\n",
       "    </tr>\n",
       "    <tr>\n",
       "      <th>4</th>\n",
       "      <td>5.0</td>\n",
       "      <td>0.5</td>\n",
       "      <td>0.5</td>\n",
       "      <td>NaN</td>\n",
       "      <td>0.0</td>\n",
       "      <td>0.0</td>\n",
       "      <td>0.000240</td>\n",
       "      <td>-1.779064e-07</td>\n",
       "      <td>0.000034</td>\n",
       "      <td>0.000001</td>\n",
       "      <td>0.000020</td>\n",
       "      <td>9.079493e-07</td>\n",
       "      <td>0.0</td>\n",
       "      <td>0.000002</td>\n",
       "      <td>0.001184</td>\n",
       "      <td>-1.000000e-10</td>\n",
       "      <td>0.0</td>\n",
       "    </tr>\n",
       "    <tr>\n",
       "      <th>5</th>\n",
       "      <td>5.0</td>\n",
       "      <td>0.5</td>\n",
       "      <td>0.5</td>\n",
       "      <td>NaN</td>\n",
       "      <td>0.0</td>\n",
       "      <td>0.0</td>\n",
       "      <td>0.000256</td>\n",
       "      <td>-1.418154e-07</td>\n",
       "      <td>0.000033</td>\n",
       "      <td>0.000001</td>\n",
       "      <td>0.000021</td>\n",
       "      <td>9.306928e-07</td>\n",
       "      <td>0.0</td>\n",
       "      <td>0.000002</td>\n",
       "      <td>0.001184</td>\n",
       "      <td>-1.000000e-10</td>\n",
       "      <td>0.0</td>\n",
       "    </tr>\n",
       "    <tr>\n",
       "      <th>6</th>\n",
       "      <td>5.0</td>\n",
       "      <td>0.5</td>\n",
       "      <td>0.5</td>\n",
       "      <td>NaN</td>\n",
       "      <td>0.0</td>\n",
       "      <td>0.0</td>\n",
       "      <td>0.000269</td>\n",
       "      <td>-1.039936e-07</td>\n",
       "      <td>0.000032</td>\n",
       "      <td>0.000001</td>\n",
       "      <td>0.000022</td>\n",
       "      <td>9.543442e-07</td>\n",
       "      <td>0.0</td>\n",
       "      <td>0.000003</td>\n",
       "      <td>0.000679</td>\n",
       "      <td>-1.000000e-10</td>\n",
       "      <td>0.0</td>\n",
       "    </tr>\n",
       "    <tr>\n",
       "      <th>7</th>\n",
       "      <td>5.0</td>\n",
       "      <td>0.5</td>\n",
       "      <td>0.5</td>\n",
       "      <td>NaN</td>\n",
       "      <td>0.0</td>\n",
       "      <td>0.0</td>\n",
       "      <td>0.000278</td>\n",
       "      <td>-6.546555e-08</td>\n",
       "      <td>0.000031</td>\n",
       "      <td>0.000001</td>\n",
       "      <td>0.000022</td>\n",
       "      <td>9.722377e-07</td>\n",
       "      <td>0.0</td>\n",
       "      <td>0.000004</td>\n",
       "      <td>0.000679</td>\n",
       "      <td>-1.000000e-10</td>\n",
       "      <td>0.0</td>\n",
       "    </tr>\n",
       "    <tr>\n",
       "      <th>8</th>\n",
       "      <td>5.0</td>\n",
       "      <td>0.5</td>\n",
       "      <td>0.5</td>\n",
       "      <td>NaN</td>\n",
       "      <td>0.0</td>\n",
       "      <td>0.0</td>\n",
       "      <td>0.000284</td>\n",
       "      <td>-2.571775e-08</td>\n",
       "      <td>0.000031</td>\n",
       "      <td>0.000001</td>\n",
       "      <td>0.000022</td>\n",
       "      <td>9.879497e-07</td>\n",
       "      <td>0.0</td>\n",
       "      <td>0.000004</td>\n",
       "      <td>0.000679</td>\n",
       "      <td>-1.000000e-10</td>\n",
       "      <td>0.0</td>\n",
       "    </tr>\n",
       "    <tr>\n",
       "      <th>9</th>\n",
       "      <td>5.0</td>\n",
       "      <td>0.5</td>\n",
       "      <td>0.5</td>\n",
       "      <td>NaN</td>\n",
       "      <td>0.0</td>\n",
       "      <td>0.0</td>\n",
       "      <td>0.000288</td>\n",
       "      <td>1.523702e-08</td>\n",
       "      <td>0.000030</td>\n",
       "      <td>0.000001</td>\n",
       "      <td>0.000023</td>\n",
       "      <td>1.001891e-06</td>\n",
       "      <td>0.0</td>\n",
       "      <td>0.000004</td>\n",
       "      <td>0.000679</td>\n",
       "      <td>-1.000000e-10</td>\n",
       "      <td>0.0</td>\n",
       "    </tr>\n",
       "    <tr>\n",
       "      <th>10</th>\n",
       "      <td>5.0</td>\n",
       "      <td>0.5</td>\n",
       "      <td>0.5</td>\n",
       "      <td>NaN</td>\n",
       "      <td>0.0</td>\n",
       "      <td>0.0</td>\n",
       "      <td>0.000291</td>\n",
       "      <td>5.731946e-08</td>\n",
       "      <td>0.000030</td>\n",
       "      <td>0.000001</td>\n",
       "      <td>0.000023</td>\n",
       "      <td>1.014369e-06</td>\n",
       "      <td>0.0</td>\n",
       "      <td>0.000004</td>\n",
       "      <td>0.000679</td>\n",
       "      <td>-1.000000e-10</td>\n",
       "      <td>0.0</td>\n",
       "    </tr>\n",
       "    <tr>\n",
       "      <th>11</th>\n",
       "      <td>5.0</td>\n",
       "      <td>0.5</td>\n",
       "      <td>0.5</td>\n",
       "      <td>NaN</td>\n",
       "      <td>0.0</td>\n",
       "      <td>0.0</td>\n",
       "      <td>0.000293</td>\n",
       "      <td>1.003459e-07</td>\n",
       "      <td>0.000029</td>\n",
       "      <td>0.000001</td>\n",
       "      <td>0.000023</td>\n",
       "      <td>1.025615e-06</td>\n",
       "      <td>0.0</td>\n",
       "      <td>0.000004</td>\n",
       "      <td>0.000679</td>\n",
       "      <td>-1.000000e-10</td>\n",
       "      <td>0.0</td>\n",
       "    </tr>\n",
       "    <tr>\n",
       "      <th>12</th>\n",
       "      <td>5.0</td>\n",
       "      <td>0.5</td>\n",
       "      <td>0.5</td>\n",
       "      <td>NaN</td>\n",
       "      <td>0.0</td>\n",
       "      <td>0.0</td>\n",
       "      <td>0.000294</td>\n",
       "      <td>1.439255e-07</td>\n",
       "      <td>0.000029</td>\n",
       "      <td>0.000001</td>\n",
       "      <td>0.000023</td>\n",
       "      <td>1.035814e-06</td>\n",
       "      <td>0.0</td>\n",
       "      <td>0.000004</td>\n",
       "      <td>0.000679</td>\n",
       "      <td>-1.000000e-10</td>\n",
       "      <td>0.0</td>\n",
       "    </tr>\n",
       "    <tr>\n",
       "      <th>13</th>\n",
       "      <td>5.0</td>\n",
       "      <td>0.5</td>\n",
       "      <td>0.5</td>\n",
       "      <td>NaN</td>\n",
       "      <td>0.0</td>\n",
       "      <td>0.0</td>\n",
       "      <td>0.000294</td>\n",
       "      <td>1.874876e-07</td>\n",
       "      <td>0.000029</td>\n",
       "      <td>0.000001</td>\n",
       "      <td>0.000024</td>\n",
       "      <td>1.045112e-06</td>\n",
       "      <td>0.0</td>\n",
       "      <td>0.000004</td>\n",
       "      <td>0.000679</td>\n",
       "      <td>-1.000000e-10</td>\n",
       "      <td>0.0</td>\n",
       "    </tr>\n",
       "    <tr>\n",
       "      <th>14</th>\n",
       "      <td>5.0</td>\n",
       "      <td>0.5</td>\n",
       "      <td>0.5</td>\n",
       "      <td>NaN</td>\n",
       "      <td>0.0</td>\n",
       "      <td>0.0</td>\n",
       "      <td>0.000294</td>\n",
       "      <td>2.314569e-07</td>\n",
       "      <td>0.000028</td>\n",
       "      <td>0.000001</td>\n",
       "      <td>0.000024</td>\n",
       "      <td>1.053626e-06</td>\n",
       "      <td>0.0</td>\n",
       "      <td>0.000004</td>\n",
       "      <td>0.000679</td>\n",
       "      <td>-1.000000e-10</td>\n",
       "      <td>0.0</td>\n",
       "    </tr>\n",
       "    <tr>\n",
       "      <th>15</th>\n",
       "      <td>5.0</td>\n",
       "      <td>0.5</td>\n",
       "      <td>0.5</td>\n",
       "      <td>NaN</td>\n",
       "      <td>0.0</td>\n",
       "      <td>0.0</td>\n",
       "      <td>0.000293</td>\n",
       "      <td>2.759166e-07</td>\n",
       "      <td>0.000028</td>\n",
       "      <td>0.000001</td>\n",
       "      <td>0.000024</td>\n",
       "      <td>1.061454e-06</td>\n",
       "      <td>0.0</td>\n",
       "      <td>0.000004</td>\n",
       "      <td>0.000679</td>\n",
       "      <td>-1.000000e-10</td>\n",
       "      <td>0.0</td>\n",
       "    </tr>\n",
       "    <tr>\n",
       "      <th>16</th>\n",
       "      <td>5.0</td>\n",
       "      <td>0.5</td>\n",
       "      <td>0.5</td>\n",
       "      <td>NaN</td>\n",
       "      <td>0.0</td>\n",
       "      <td>0.0</td>\n",
       "      <td>0.000292</td>\n",
       "      <td>3.208712e-07</td>\n",
       "      <td>0.000028</td>\n",
       "      <td>0.000001</td>\n",
       "      <td>0.000024</td>\n",
       "      <td>1.068675e-06</td>\n",
       "      <td>0.0</td>\n",
       "      <td>0.000005</td>\n",
       "      <td>0.000679</td>\n",
       "      <td>-1.000000e-10</td>\n",
       "      <td>0.0</td>\n",
       "    </tr>\n",
       "    <tr>\n",
       "      <th>17</th>\n",
       "      <td>5.0</td>\n",
       "      <td>0.5</td>\n",
       "      <td>0.5</td>\n",
       "      <td>NaN</td>\n",
       "      <td>0.0</td>\n",
       "      <td>0.0</td>\n",
       "      <td>0.000290</td>\n",
       "      <td>3.663234e-07</td>\n",
       "      <td>0.000028</td>\n",
       "      <td>0.000001</td>\n",
       "      <td>0.000024</td>\n",
       "      <td>1.075358e-06</td>\n",
       "      <td>0.0</td>\n",
       "      <td>0.000005</td>\n",
       "      <td>0.000679</td>\n",
       "      <td>-1.000000e-10</td>\n",
       "      <td>0.0</td>\n",
       "    </tr>\n",
       "    <tr>\n",
       "      <th>18</th>\n",
       "      <td>5.0</td>\n",
       "      <td>0.5</td>\n",
       "      <td>0.5</td>\n",
       "      <td>NaN</td>\n",
       "      <td>0.0</td>\n",
       "      <td>0.0</td>\n",
       "      <td>0.000288</td>\n",
       "      <td>4.122740e-07</td>\n",
       "      <td>0.000027</td>\n",
       "      <td>0.000001</td>\n",
       "      <td>0.000024</td>\n",
       "      <td>1.081561e-06</td>\n",
       "      <td>0.0</td>\n",
       "      <td>0.000005</td>\n",
       "      <td>0.000679</td>\n",
       "      <td>-1.000000e-10</td>\n",
       "      <td>0.0</td>\n",
       "    </tr>\n",
       "    <tr>\n",
       "      <th>19</th>\n",
       "      <td>5.0</td>\n",
       "      <td>0.5</td>\n",
       "      <td>0.5</td>\n",
       "      <td>NaN</td>\n",
       "      <td>0.0</td>\n",
       "      <td>0.0</td>\n",
       "      <td>0.000286</td>\n",
       "      <td>4.587225e-07</td>\n",
       "      <td>0.000027</td>\n",
       "      <td>0.000001</td>\n",
       "      <td>0.000025</td>\n",
       "      <td>1.087330e-06</td>\n",
       "      <td>0.0</td>\n",
       "      <td>0.000005</td>\n",
       "      <td>0.000679</td>\n",
       "      <td>-1.000000e-10</td>\n",
       "      <td>0.0</td>\n",
       "    </tr>\n",
       "  </tbody>\n",
       "</table>\n",
       "</div>"
      ],
      "text/plain": [
       "            X    Y    Z  Ferrihydrite_D  Goethite_DIRB  Goethite  \\\n",
       "File Num                                                           \n",
       "0         5.0  0.5  0.5             NaN            0.0       0.0   \n",
       "1         5.0  0.5  0.5             NaN            0.0       0.0   \n",
       "2         5.0  0.5  0.5             NaN            0.0       0.0   \n",
       "3         5.0  0.5  0.5             NaN            0.0       0.0   \n",
       "4         5.0  0.5  0.5             NaN            0.0       0.0   \n",
       "5         5.0  0.5  0.5             NaN            0.0       0.0   \n",
       "6         5.0  0.5  0.5             NaN            0.0       0.0   \n",
       "7         5.0  0.5  0.5             NaN            0.0       0.0   \n",
       "8         5.0  0.5  0.5             NaN            0.0       0.0   \n",
       "9         5.0  0.5  0.5             NaN            0.0       0.0   \n",
       "10        5.0  0.5  0.5             NaN            0.0       0.0   \n",
       "11        5.0  0.5  0.5             NaN            0.0       0.0   \n",
       "12        5.0  0.5  0.5             NaN            0.0       0.0   \n",
       "13        5.0  0.5  0.5             NaN            0.0       0.0   \n",
       "14        5.0  0.5  0.5             NaN            0.0       0.0   \n",
       "15        5.0  0.5  0.5             NaN            0.0       0.0   \n",
       "16        5.0  0.5  0.5             NaN            0.0       0.0   \n",
       "17        5.0  0.5  0.5             NaN            0.0       0.0   \n",
       "18        5.0  0.5  0.5             NaN            0.0       0.0   \n",
       "19        5.0  0.5  0.5             NaN            0.0       0.0   \n",
       "\n",
       "          CalciteRifle  MagnesiteRifle   FeS(am)  FeS34(am)       S32  \\\n",
       "File Num                                                                \n",
       "0            -0.000044   -3.399930e-07  0.000044   0.000002  0.000012   \n",
       "1             0.000125   -2.844066e-07  0.000038   0.000002  0.000018   \n",
       "2             0.000182   -2.480869e-07  0.000036   0.000002  0.000019   \n",
       "3             0.000216   -2.131733e-07  0.000035   0.000002  0.000020   \n",
       "4             0.000240   -1.779064e-07  0.000034   0.000001  0.000020   \n",
       "5             0.000256   -1.418154e-07  0.000033   0.000001  0.000021   \n",
       "6             0.000269   -1.039936e-07  0.000032   0.000001  0.000022   \n",
       "7             0.000278   -6.546555e-08  0.000031   0.000001  0.000022   \n",
       "8             0.000284   -2.571775e-08  0.000031   0.000001  0.000022   \n",
       "9             0.000288    1.523702e-08  0.000030   0.000001  0.000023   \n",
       "10            0.000291    5.731946e-08  0.000030   0.000001  0.000023   \n",
       "11            0.000293    1.003459e-07  0.000029   0.000001  0.000023   \n",
       "12            0.000294    1.439255e-07  0.000029   0.000001  0.000023   \n",
       "13            0.000294    1.874876e-07  0.000029   0.000001  0.000024   \n",
       "14            0.000294    2.314569e-07  0.000028   0.000001  0.000024   \n",
       "15            0.000293    2.759166e-07  0.000028   0.000001  0.000024   \n",
       "16            0.000292    3.208712e-07  0.000028   0.000001  0.000024   \n",
       "17            0.000290    3.663234e-07  0.000028   0.000001  0.000024   \n",
       "18            0.000288    4.122740e-07  0.000027   0.000001  0.000024   \n",
       "19            0.000286    4.587225e-07  0.000027   0.000001  0.000025   \n",
       "\n",
       "                   S34  Fe(OH)3  C5H7O2NFe(s)  C5H7O2NSO4(s)        Quartz  \\\n",
       "File Num                                                                     \n",
       "0         5.508725e-07      0.0      0.000053       0.000266 -1.000000e-10   \n",
       "1         7.868416e-07      0.0      0.000001       0.002194 -1.000000e-10   \n",
       "2         8.471167e-07      0.0      0.000002       0.001184 -1.000000e-10   \n",
       "3         8.807452e-07      0.0      0.000002       0.001184 -1.000000e-10   \n",
       "4         9.079493e-07      0.0      0.000002       0.001184 -1.000000e-10   \n",
       "5         9.306928e-07      0.0      0.000002       0.001184 -1.000000e-10   \n",
       "6         9.543442e-07      0.0      0.000003       0.000679 -1.000000e-10   \n",
       "7         9.722377e-07      0.0      0.000004       0.000679 -1.000000e-10   \n",
       "8         9.879497e-07      0.0      0.000004       0.000679 -1.000000e-10   \n",
       "9         1.001891e-06      0.0      0.000004       0.000679 -1.000000e-10   \n",
       "10        1.014369e-06      0.0      0.000004       0.000679 -1.000000e-10   \n",
       "11        1.025615e-06      0.0      0.000004       0.000679 -1.000000e-10   \n",
       "12        1.035814e-06      0.0      0.000004       0.000679 -1.000000e-10   \n",
       "13        1.045112e-06      0.0      0.000004       0.000679 -1.000000e-10   \n",
       "14        1.053626e-06      0.0      0.000004       0.000679 -1.000000e-10   \n",
       "15        1.061454e-06      0.0      0.000004       0.000679 -1.000000e-10   \n",
       "16        1.068675e-06      0.0      0.000005       0.000679 -1.000000e-10   \n",
       "17        1.075358e-06      0.0      0.000005       0.000679 -1.000000e-10   \n",
       "18        1.081561e-06      0.0      0.000005       0.000679 -1.000000e-10   \n",
       "19        1.087330e-06      0.0      0.000005       0.000679 -1.000000e-10   \n",
       "\n",
       "          decay_b_so4(s)  \n",
       "File Num                  \n",
       "0                    0.0  \n",
       "1                    0.0  \n",
       "2                    0.0  \n",
       "3                    0.0  \n",
       "4                    0.0  \n",
       "5                    0.0  \n",
       "6                    0.0  \n",
       "7                    0.0  \n",
       "8                    0.0  \n",
       "9                    0.0  \n",
       "10                   0.0  \n",
       "11                   0.0  \n",
       "12                   0.0  \n",
       "13                   0.0  \n",
       "14                   0.0  \n",
       "15                   0.0  \n",
       "16                   0.0  \n",
       "17                   0.0  \n",
       "18                   0.0  \n",
       "19                   0.0  "
      ]
     },
     "execution_count": 82,
     "metadata": {},
     "output_type": "execute_result"
    }
   ],
   "source": [
    "labels_df.xs(0, level=1)"
   ]
  },
  {
   "cell_type": "code",
   "execution_count": 78,
   "metadata": {},
   "outputs": [
    {
     "data": {
      "text/plain": [
       "array([0., 0., 0., 0., 0., 0., 0., 0., 0., 0., 0., 0., 0., 0., 0., 0., 0.,\n",
       "       0., 0., 0.])"
      ]
     },
     "execution_count": 78,
     "metadata": {},
     "output_type": "execute_result"
    }
   ],
   "source": [
    "y.to_numpy()"
   ]
  },
  {
   "cell_type": "code",
   "execution_count": 6,
   "metadata": {},
   "outputs": [],
   "source": [
    "import matplotlib.pyplot as plt"
   ]
  },
  {
   "cell_type": "code",
   "execution_count": 33,
   "metadata": {},
   "outputs": [
    {
     "data": {
      "text/plain": [
       "7.2"
      ]
     },
     "execution_count": 33,
     "metadata": {},
     "output_type": "execute_result"
    }
   ],
   "source": [
    "7.2"
   ]
  },
  {
   "cell_type": "code",
   "execution_count": 86,
   "metadata": {},
   "outputs": [
    {
     "data": {
      "text/plain": [
       "<matplotlib.collections.PathCollection at 0x1257eee50>"
      ]
     },
     "execution_count": 86,
     "metadata": {},
     "output_type": "execute_result"
    },
    {
     "data": {
      "image/png": "[encoded data removed]",
      "text/plain": [
       "<Figure size 432x288 with 1 Axes>"
      ]
     },
     "metadata": {
      "needs_background": "light"
     },
     "output_type": "display_data"
    }
   ],
   "source": [
    "plt.scatter(np.linspace(0,10,20) ,y)"
   ]
  },
  {
   "cell_type": "code",
   "execution_count": 54,
   "metadata": {},
   "outputs": [
    {
     "data": {
      "text/plain": [
       "0    0.0\n",
       "Name: Sulfate_reduct, dtype: float64"
      ]
     },
     "execution_count": 54,
     "metadata": {},
     "output_type": "execute_result"
    }
   ],
   "source": [
    "dataset[23].results.results_dict['AqRate']['Sulfate_reduct'][0]"
   ]
  },
  {
   "cell_type": "code",
   "execution_count": 59,
   "metadata": {},
   "outputs": [
    {
     "data": {
      "text/plain": [
       "8.21819218"
      ]
     },
     "execution_count": 59,
     "metadata": {},
     "output_type": "execute_result"
    }
   ],
   "source": [
    "dataset[i].results.results_dict['pH']['pH'][0]"
   ]
  },
  {
   "cell_type": "code",
   "execution_count": 9,
   "metadata": {},
   "outputs": [
    {
     "data": {
      "image/png": "[encoded data removed]",
      "text/plain": [
       "<Figure size 432x288 with 1 Axes>"
      ]
     },
     "metadata": {
      "needs_background": "light"
     },
     "output_type": "display_data"
    }
   ],
   "source": [
    "range = np.linspace(0,10,20)\n",
    "for i in dataset:\n",
    "    plt.scatter(range[i], dataset[i].results.results_dict['volume']['Goethite_DIRB'][0])"
   ]
  },
  {
   "cell_type": "code",
   "execution_count": 16,
   "metadata": {},
   "outputs": [
    {
     "data": {
      "image/png": "[encoded data removed]",
      "text/plain": [
       "<Figure size 432x288 with 1 Axes>"
      ]
     },
     "metadata": {
      "needs_background": "light"
     },
     "output_type": "display_data"
    }
   ],
   "source": [
    "range = np.linspace(0,10,20)\n",
    "for i in dataset:\n",
    "    plt.scatter(range[i], dataset[i].results.results_dict['totcon']['Fe++'][0])"
   ]
  },
  {
   "cell_type": "code",
   "execution_count": 11,
   "metadata": {},
   "outputs": [
    {
     "data": {
      "image/png": "[encoded data removed]",
      "text/plain": [
       "<Figure size 432x288 with 1 Axes>"
      ]
     },
     "metadata": {
      "needs_background": "light"
     },
     "output_type": "display_data"
    }
   ],
   "source": [
    "range = np.linspace(0,10,20)\n",
    "for i in dataset:\n",
    "    plt.scatter(range[i], dataset[i].results.results_dict['volume']['Ferrihydrite_D'][0]-3e-3)"
   ]
  },
  {
   "cell_type": "code",
   "execution_count": 15,
   "metadata": {},
   "outputs": [
    {
     "data": {
      "image/png": "[encoded data removed]",
      "text/plain": [
       "<Figure size 432x288 with 1 Axes>"
      ]
     },
     "metadata": {
      "needs_background": "light"
     },
     "output_type": "display_data"
    }
   ],
   "source": [
    "range = np.linspace(0,10,20)\n",
    "for i in dataset:\n",
    "    plt.scatter(range[i], dataset[i].results.results_dict['rate']['Ferrihydrite_D'][0])"
   ]
  },
  {
   "cell_type": "code",
   "execution_count": 13,
   "metadata": {},
   "outputs": [
    {
     "data": {
      "image/png": "[encoded data removed]",
      "text/plain": [
       "<Figure size 432x288 with 1 Axes>"
      ]
     },
     "metadata": {
      "needs_background": "light"
     },
     "output_type": "display_data"
    }
   ],
   "source": [
    "range = np.linspace(0,10,20)\n",
    "for i in dataset:\n",
    "    plt.scatter(range[i], dataset[i].results.results_dict['totcon']['CO2(aq)'][0])"
   ]
  },
  {
   "cell_type": "code",
   "execution_count": 14,
   "metadata": {},
   "outputs": [
    {
     "data": {
      "image/png": "[encoded data removed]",
      "text/plain": [
       "<Figure size 432x288 with 1 Axes>"
      ]
     },
     "metadata": {
      "needs_background": "light"
     },
     "output_type": "display_data"
    }
   ],
   "source": [
    "range = np.linspace(0,10,20)\n",
    "\n",
    "for i in dataset:\n",
    "    plt.scatter(range[i], dataset[i].results.results_dict['pH']['pH'][0])"
   ]
  },
  {
   "cell_type": "code",
   "execution_count": 19,
   "metadata": {},
   "outputs": [
    {
     "data": {
      "text/html": [
       "<div>\n",
       "<style scoped>\n",
       "    .dataframe tbody tr th:only-of-type {\n",
       "        vertical-align: middle;\n",
       "    }\n",
       "\n",
       "    .dataframe tbody tr th {\n",
       "        vertical-align: top;\n",
       "    }\n",
       "\n",
       "    .dataframe thead th {\n",
       "        text-align: right;\n",
       "    }\n",
       "</style>\n",
       "<table border=\"1\" class=\"dataframe\">\n",
       "  <thead>\n",
       "    <tr style=\"text-align: right;\">\n",
       "      <th></th>\n",
       "      <th>X</th>\n",
       "      <th>Y</th>\n",
       "      <th>Z</th>\n",
       "      <th>Ferrihydrite_D</th>\n",
       "      <th>Goethite_DIRB</th>\n",
       "      <th>Goethite</th>\n",
       "      <th>CalciteRifle</th>\n",
       "      <th>MagnesiteRifle</th>\n",
       "      <th>FeS(am)</th>\n",
       "      <th>FeS34(am)</th>\n",
       "      <th>S32</th>\n",
       "      <th>S34</th>\n",
       "      <th>Fe(OH)3</th>\n",
       "      <th>C5H7O2NFe(s)</th>\n",
       "      <th>C5H7O2NSO4(s)</th>\n",
       "      <th>Quartz</th>\n",
       "      <th>decay_b_so4(s)</th>\n",
       "    </tr>\n",
       "  </thead>\n",
       "  <tbody>\n",
       "    <tr>\n",
       "      <th>0</th>\n",
       "      <td>5.0</td>\n",
       "      <td>0.5</td>\n",
       "      <td>0.5</td>\n",
       "      <td>-3.662958e-14</td>\n",
       "      <td>-1.846208e-47</td>\n",
       "      <td>2.490945e-28</td>\n",
       "      <td>6.144292e-08</td>\n",
       "      <td>-2.554200e-09</td>\n",
       "      <td>1.912517e-16</td>\n",
       "      <td>8.730858e-18</td>\n",
       "      <td>-1.522502e-18</td>\n",
       "      <td>-6.950556e-20</td>\n",
       "      <td>2.836763e-18</td>\n",
       "      <td>1.207923e-15</td>\n",
       "      <td>0.0</td>\n",
       "      <td>8.279444e-36</td>\n",
       "      <td>-1.220124e-08</td>\n",
       "    </tr>\n",
       "  </tbody>\n",
       "</table>\n",
       "</div>"
      ],
      "text/plain": [
       "     X    Y    Z  Ferrihydrite_D  Goethite_DIRB      Goethite  CalciteRifle  \\\n",
       "0  5.0  0.5  0.5   -3.662958e-14  -1.846208e-47  2.490945e-28  6.144292e-08   \n",
       "\n",
       "   MagnesiteRifle       FeS(am)     FeS34(am)           S32           S34  \\\n",
       "0   -2.554200e-09  1.912517e-16  8.730858e-18 -1.522502e-18 -6.950556e-20   \n",
       "\n",
       "        Fe(OH)3  C5H7O2NFe(s)  C5H7O2NSO4(s)        Quartz  decay_b_so4(s)  \n",
       "0  2.836763e-18  1.207923e-15            0.0  8.279444e-36   -1.220124e-08  "
      ]
     },
     "execution_count": 19,
     "metadata": {},
     "output_type": "execute_result"
    }
   ],
   "source": [
    "dataset[1].results.results_dict['rate']"
   ]
  },
  {
   "cell_type": "markdown",
   "metadata": {},
   "source": [
    "7.5"
   ]
  },
  {
   "cell_type": "code",
   "execution_count": 25,
   "metadata": {},
   "outputs": [
    {
     "data": {
      "text/plain": [
       "<matplotlib.collections.PathCollection at 0x124714df0>"
      ]
     },
     "execution_count": 25,
     "metadata": {},
     "output_type": "execute_result"
    },
    {
     "data": {
      "image/png": "[encoded data removed]",
      "text/plain": [
       "<Figure size 432x288 with 1 Axes>"
      ]
     },
     "metadata": {
      "needs_background": "light"
     },
     "output_type": "display_data"
    }
   ],
   "source": [
    "plt.scatter(np.linspace(0,10,25) ,y)"
   ]
  },
  {
   "cell_type": "markdown",
   "metadata": {},
   "source": [
    "6.5"
   ]
  },
  {
   "cell_type": "code",
   "execution_count": 32,
   "metadata": {},
   "outputs": [
    {
     "data": {
      "text/plain": [
       "<matplotlib.collections.PathCollection at 0x1257ccc70>"
      ]
     },
     "execution_count": 32,
     "metadata": {},
     "output_type": "execute_result"
    },
    {
     "data": {
      "image/png": "[encoded data removed]",
      "text/plain": [
       "<Figure size 432x288 with 1 Axes>"
      ]
     },
     "metadata": {
      "needs_background": "light"
     },
     "output_type": "display_data"
    }
   ],
   "source": [
    "plt.scatter(np.linspace(0,10,25) ,y)"
   ]
  },
  {
   "cell_type": "markdown",
   "metadata": {},
   "source": [
    "pH var, no CO2"
   ]
  },
  {
   "cell_type": "code",
   "execution_count": 39,
   "metadata": {},
   "outputs": [
    {
     "data": {
      "text/plain": [
       "<matplotlib.collections.PathCollection at 0x12463aca0>"
      ]
     },
     "execution_count": 39,
     "metadata": {},
     "output_type": "execute_result"
    },
    {
     "data": {
      "image/png": "[encoded data removed]",
      "text/plain": [
       "<Figure size 432x288 with 1 Axes>"
      ]
     },
     "metadata": {
      "needs_background": "light"
     },
     "output_type": "display_data"
    }
   ],
   "source": [
    "plt.scatter(np.linspace(4,10,24) ,y)"
   ]
  },
  {
   "cell_type": "code",
   "execution_count": null,
   "metadata": {},
   "outputs": [],
   "source": []
  }
 ],
 "metadata": {
  "kernelspec": {
   "display_name": "Python 3",
   "language": "python",
   "name": "python3"
  },
  "language_info": {
   "codemirror_mode": {
    "name": "ipython",
    "version": 3
   },
   "file_extension": ".py",
   "mimetype": "text/x-python",
   "name": "python",
   "nbconvert_exporter": "python",
   "pygments_lexer": "ipython3",
   "version": "3.8.8"
  }
 },
 "nbformat": 4,
 "nbformat_minor": 4
}
